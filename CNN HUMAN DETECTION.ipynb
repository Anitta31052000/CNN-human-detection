{
 "cells": [
  {
   "cell_type": "code",
   "execution_count": null,
   "id": "8dc5a2ba",
   "metadata": {},
   "outputs": [],
   "source": [
    "!pip install opencv-python"
   ]
  },
  {
   "cell_type": "code",
   "execution_count": null,
   "id": "2bf3d2ff",
   "metadata": {},
   "outputs": [],
   "source": [
    "import cv2"
   ]
  },
  {
   "cell_type": "code",
   "execution_count": null,
   "id": "2c1f2a98",
   "metadata": {},
   "outputs": [],
   "source": [
    "!pip install mediapipe"
   ]
  },
  {
   "cell_type": "code",
   "execution_count": null,
   "id": "2821a0a4",
   "metadata": {},
   "outputs": [],
   "source": [
    "import mediapipe as mp"
   ]
  },
  {
   "cell_type": "code",
   "execution_count": null,
   "id": "2fd7c4ef",
   "metadata": {},
   "outputs": [],
   "source": [
    "mpDraw = mp.solutions.drawing_utils\n",
    "mpPose = mp.solutions.pose#pose is file\n",
    "\n",
    "pose = mpPose.Pose()#Pose is class\n",
    "\n",
    "cap = cv2.VideoCapture(0) #class,0 indicate the camera of my pc.port number 0 is the default port number of my pc\n",
    "\n",
    "while True:\n",
    "    x, img = cap.read()#capture one image from the video.Read function always returns 2 things.First gives the keys and will be stored in x,second is the image and stored in img.\n",
    "  #Image is in the form of BGR.(image is from opencv).Image should be converted RGB(mediapipe receives the input only in RGB).cvtColor is the function for doing that. \n",
    "    imgRGB = cv2.cvtColor(img, cv2.COLOR_BGR2RGB)\n",
    "    results = pose.process(imgRGB)#results will contain the landmark of the image\n",
    "    \n",
    "    #print(type(results.pose_landmarks))\n",
    "    if results.pose_landmarks:\n",
    "        print(\"Human Detected\")\n",
    "        mpDraw.draw_landmarks(img, results.pose_landmarks, mpPose.POSE_CONNECTIONS)#inside the drawing_utils file we have the function draw_landmarks.landmarks are interconnected with lines x,y,z.\n",
    "  #These variables contain img,etc....\n",
    "        for id, lm in enumerate(results.pose_landmarks.landmark):# emumarate is the act or process of making or stating a list of things one after another.\n",
    "  #range (in for i in range)is used to return a list.lm indicate the x coordnate of the image.multilying with x and y is to grt the perfect position.\n",
    "            h, w, c = img.shape#shape returns 3 values.height,width and the number of layers\n",
    "            #print(id,lm)\n",
    "            cx,cy = int(lm.x * w), int(lm.y * h)\n",
    "            cv2.circle(img, (cx, cy),5, (255,0,0),cv2.FILLED)#image will have blue circles.\n",
    "    cv2.imshow(\"Image\", img)\n",
    "    cv2.waitKey(1)#the outputs arre extremely fast.so we add a wait of 1 microsec to display the output.\n",
    "    if cv2.getWindowProperty(\"Image\",cv2.WND_PROP_VISIBLE) < 1:\n",
    "        break\n",
    "cv2.destroyAllWindows()"
   ]
  },
  {
   "cell_type": "code",
   "execution_count": null,
   "id": "a6a59a7c",
   "metadata": {},
   "outputs": [],
   "source": []
  }
 ],
 "metadata": {
  "kernelspec": {
   "display_name": "Python 3 (ipykernel)",
   "language": "python",
   "name": "python3"
  },
  "language_info": {
   "codemirror_mode": {
    "name": "ipython",
    "version": 3
   },
   "file_extension": ".py",
   "mimetype": "text/x-python",
   "name": "python",
   "nbconvert_exporter": "python",
   "pygments_lexer": "ipython3",
   "version": "3.9.12"
  }
 },
 "nbformat": 4,
 "nbformat_minor": 5
}
